{
 "cells": [
  {
   "cell_type": "code",
   "execution_count": 1,
   "id": "3cdfc90c-7989-4ebc-bfbd-69a677160cc9",
   "metadata": {},
   "outputs": [],
   "source": [
    "import os\n",
    "import numpy as np\n",
    "import matplotlib.pyplot as plt\n",
    "import seaborn as sns\n",
    "from sklearn.utils.class_weight import compute_class_weight\n",
    "from sklearn.metrics import confusion_matrix, classification_report\n",
    "\n",
    "from tensorflow.keras.preprocessing.image import ImageDataGenerator\n",
    "from tensorflow.keras.applications import MobileNetV2\n",
    "from tensorflow.keras.models import Sequential, load_model\n",
    "from tensorflow.keras.layers import GlobalAveragePooling2D, Dropout, Dense\n",
    "from tensorflow.keras.optimizers import Adam\n",
    "from tensorflow.keras.callbacks import EarlyStopping, ModelCheckpoint, ReduceLROnPlateau"
   ]
  },
  {
   "cell_type": "code",
   "execution_count": null,
   "id": "463d14cc-ee43-4716-8118-f8b1ae19d6a2",
   "metadata": {},
   "outputs": [],
   "source": [
    "train_dir = \"C:/Users/hp/OneDrive/Desktop/PGA38/eye open close/train\"\n",
    "val_dir   = \"C:/Users/hp/OneDrive/Desktop/PGA38/eye open close/val\"\n",
    "test_dir  = \"C:/Users/hp/OneDrive/Desktop/PGA38/eye open close/test\"\n",
    "IMG_SIZE = 224\n",
    "BATCH_SIZE = 32\n",
    "CATEGORIES = ['Open', 'Closed']  "
   ]
  },
  {
   "cell_type": "code",
   "execution_count": null,
   "id": "f847bd49-6382-4f0b-b0ba-cee0eca0f9eb",
   "metadata": {},
   "outputs": [],
   "source": [
    "# ----------------- Data Generators -----------------\n",
    "train_datagen = ImageDataGenerator(\n",
    "    rescale=1./255,\n",
    "    rotation_range=20,\n",
    "    width_shift_range=0.2,\n",
    "    height_shift_range=0.2,\n",
    "    shear_range=0.2,\n",
    "    zoom_range=0.2,\n",
    "    horizontal_flip=True,\n",
    "    fill_mode='nearest'\n",
    ")\n",
    "\n",
    "val_datagen = ImageDataGenerator(rescale=1./255)\n",
    "test_datagen = ImageDataGenerator(rescale=1./255)\n",
    "\n",
    "train_gen = train_datagen.flow_from_directory(\n",
    "    train_dir,\n",
    "    target_size=(IMG_SIZE, IMG_SIZE),\n",
    "    batch_size=BATCH_SIZE,\n",
    "    class_mode='binary'\n",
    ")\n",
    "\n",
    "val_gen = val_datagen.flow_from_directory(\n",
    "    val_dir,\n",
    "    target_size=(IMG_SIZE, IMG_SIZE),\n",
    "    batch_size=BATCH_SIZE,\n",
    "    class_mode='binary',\n",
    "    shuffle=False\n",
    ")\n",
    "\n",
    "test_gen = test_datagen.flow_from_directory(\n",
    "    test_dir,\n",
    "    target_size=(IMG_SIZE, IMG_SIZE),\n",
    "    batch_size=BATCH_SIZE,\n",
    "    class_mode='binary',\n",
    "    shuffle=False\n",
    ")\n"
   ]
  },
  {
   "cell_type": "code",
   "execution_count": null,
   "id": "02bbb2f8-4b52-4a78-ae69-9e1aff1420c3",
   "metadata": {},
   "outputs": [],
   "source": [
    "# ----------------- Compute Class Weights -----------------\n",
    "class_weights = compute_class_weight(\n",
    "    class_weight='balanced',\n",
    "    classes=np.unique(train_gen.classes),\n",
    "    y=train_gen.classes\n",
    ")\n",
    "class_weights = dict(enumerate(class_weights))\n",
    "print(\"Class weights:\", class_weights)"
   ]
  },
  {
   "cell_type": "code",
   "execution_count": null,
   "id": "6fa8e3ca-706b-458a-b3d6-313a4289f012",
   "metadata": {},
   "outputs": [],
   "source": [
    "# ----------------- Build Model -----------------\n",
    "base_model = MobileNetV2(weights='imagenet', include_top=False, input_shape=(IMG_SIZE, IMG_SIZE, 3))\n",
    "base_model.trainable = False  # Freeze for initial training"
   ]
  },
  {
   "cell_type": "code",
   "execution_count": null,
   "id": "e7407ab3-743a-4b86-85de-4e22d99f3730",
   "metadata": {},
   "outputs": [],
   "source": [
    "model = Sequential([\n",
    "    base_model,\n",
    "    GlobalAveragePooling2D(),\n",
    "    Dropout(0.5),\n",
    "    Dense(1, activation='sigmoid')\n",
    "])\n",
    "base_model.trainable = True\n",
    "for layer in base_model.layers[:-50]:  # Freeze most layers\n",
    "    layer.trainable = False\n",
    "# Compile with lower learning rate for fine-tuning\n",
    "model.compile(optimizer=Adam(1e-5), loss='binary_crossentropy', metrics=['accuracy'])\n"
   ]
  },
  {
   "cell_type": "code",
   "execution_count": null,
   "id": "45307eaa-ee2e-43f2-bd99-bf7e96d25479",
   "metadata": {},
   "outputs": [],
   "source": [
    "callbacks = [\n",
    "    EarlyStopping(monitor='val_loss', patience=5, restore_best_weights=True),\n",
    "    ModelCheckpoint(\"best_model_finetuned.h5\", save_best_only=True, monitor='val_accuracy'),\n",
    "    ReduceLROnPlateau(monitor='val_loss', factor=0.5, patience=3, min_lr=1e-6, verbose=1)\n",
    "]\n"
   ]
  },
  {
   "cell_type": "code",
   "execution_count": null,
   "id": "7ae18667-6ac2-4edf-b2bc-070c28d3878a",
   "metadata": {},
   "outputs": [],
   "source": [
    "history_finetune = model.fit(\n",
    "    train_gen,\n",
    "    validation_data=val_gen,\n",
    "    epochs=10,  # Fine-tuning epochs\n",
    "    callbacks=callbacks,\n",
    "    class_weight=class_weights\n",
    ")\n"
   ]
  },
  {
   "cell_type": "code",
   "execution_count": null,
   "id": "c0d456e8-d0c1-4286-93d0-e2dd32244e01",
   "metadata": {},
   "outputs": [],
   "source": []
  }
 ],
 "metadata": {
  "kernelspec": {
   "display_name": "Python 3 (ipykernel)",
   "language": "python",
   "name": "python3"
  },
  "language_info": {
   "codemirror_mode": {
    "name": "ipython",
    "version": 3
   },
   "file_extension": ".py",
   "mimetype": "text/x-python",
   "name": "python",
   "nbconvert_exporter": "python",
   "pygments_lexer": "ipython3",
   "version": "3.12.7"
  }
 },
 "nbformat": 4,
 "nbformat_minor": 5
}
